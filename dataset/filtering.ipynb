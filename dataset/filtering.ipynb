{
 "cells": [
  {
   "cell_type": "code",
   "execution_count": 1,
   "metadata": {},
   "outputs": [
    {
     "name": "stdout",
     "output_type": "stream",
     "text": [
      "Filtered video IDs and glosses saved to 'filtered_videos.csv'\n"
     ]
    }
   ],
   "source": [
    "import json\n",
    "import csv\n",
    "\n",
    "# Load the missing video ids from the missing.txt file\n",
    "with open('/Users/reethu/coding/Projects/Sign-Language-Quiz/WLASL/WLASL_dataset/missing.txt', 'r') as missing_file:\n",
    "    missing_ids = {line.strip() for line in missing_file}\n",
    "\n",
    "# Load the JSON data\n",
    "with open('/Users/reethu/coding/Projects/Sign-Language-Quiz/WLASL/WLASL_dataset/WLASL_v0.3.json', 'r') as json_file:\n",
    "    data = json.load(json_file)\n",
    "\n",
    "# Prepare the CSV file for writing\n",
    "with open('filtered_videos.csv', 'w', newline='') as csv_file:\n",
    "    csv_writer = csv.writer(csv_file)\n",
    "    # Write the header\n",
    "    csv_writer.writerow(['gloss', 'video_id'])\n",
    "\n",
    "    # Loop through the JSON entries and extract gloss and video_id\n",
    "    for entry in data:\n",
    "        gloss = entry.get('gloss', '')\n",
    "        for instance in entry.get('instances', []):\n",
    "            video_id = instance.get('video_id', '')\n",
    "            if video_id and video_id not in missing_ids:\n",
    "                # Write the gloss and video_id to the CSV\n",
    "                csv_writer.writerow([gloss, video_id])\n",
    "\n",
    "print(\"Filtered video IDs and glosses saved to 'filtered_videos.csv'\")\n"
   ]
  },
  {
   "cell_type": "code",
   "execution_count": 3,
   "metadata": {},
   "outputs": [
    {
     "name": "stdout",
     "output_type": "stream",
     "text": [
      "Sorted glosses and video IDs saved to 'sorted_videos_by_gloss.csv'\n"
     ]
    }
   ],
   "source": [
    "import csv\n",
    "from collections import defaultdict\n",
    "\n",
    "# Dictionary to store gloss as key and list of video_ids as values\n",
    "gloss_dict = defaultdict(list)\n",
    "\n",
    "# Read the filtered_videos.csv file\n",
    "with open('filtered_videos.csv', 'r') as csv_file:\n",
    "    csv_reader = csv.reader(csv_file)\n",
    "    # Skip the header\n",
    "    next(csv_reader)\n",
    "    \n",
    "    # Group the video_ids by gloss\n",
    "    for row in csv_reader:\n",
    "        gloss = row[0]\n",
    "        video_id = row[1]\n",
    "        gloss_dict[gloss].append(video_id)\n",
    "\n",
    "# Sort the glosses by the number of video_ids (most examples first)\n",
    "sorted_glosses = sorted(gloss_dict.items(), key=lambda item: len(item[1]), reverse=True)\n",
    "\n",
    "# Write the sorted glosses and their video_ids to a new CSV file\n",
    "with open('sorted_videos_by_gloss.csv', 'w', newline='') as sorted_csv_file:\n",
    "    csv_writer = csv.writer(sorted_csv_file)\n",
    "    # Write the header\n",
    "    csv_writer.writerow(['gloss', 'video_id'])\n",
    "\n",
    "    # Write each gloss with its corresponding video_ids\n",
    "    for gloss, video_ids in sorted_glosses:\n",
    "        for video_id in video_ids:\n",
    "            csv_writer.writerow([gloss, video_id])\n",
    "\n",
    "print(\"Sorted glosses and video IDs saved to 'sorted_videos_by_gloss.csv'\")\n"
   ]
  }
 ],
 "metadata": {
  "kernelspec": {
   "display_name": "base",
   "language": "python",
   "name": "python3"
  },
  "language_info": {
   "codemirror_mode": {
    "name": "ipython",
    "version": 3
   },
   "file_extension": ".py",
   "mimetype": "text/x-python",
   "name": "python",
   "nbconvert_exporter": "python",
   "pygments_lexer": "ipython3",
   "version": "3.11.0"
  }
 },
 "nbformat": 4,
 "nbformat_minor": 2
}
